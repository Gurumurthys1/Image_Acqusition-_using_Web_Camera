{
 "cells": [
  {
   "cell_type": "code",
   "execution_count": 4,
   "id": "d1640202-8916-465e-85de-e5209d07fa04",
   "metadata": {},
   "outputs": [
    {
     "name": "stdin",
     "output_type": "stream",
     "text": [
      "Enter the number of frames to capture:  1\n"
     ]
    }
   ],
   "source": [
    "import cv2\n",
    "cap = cv2.VideoCapture(0) \n",
    "frame_number = 0  \n",
    "frame_limit = int(input(\"Enter the number of frames to capture: \"))\n",
    "while frame_number < frame_limit:\n",
    "    ret, frame = cap.read()  \n",
    "    if not ret: \n",
    "        print(\"Failed to capture frame.\")\n",
    "        break\n",
    "    cv2.imshow('frame', frame)  \n",
    "    cv2.imwrite(f\"frame_{frame_number}.jpg\", frame)\n",
    "    frame_number += 1  \n",
    "    if cv2.waitKey(1) & 0xFF == ord('q'):\n",
    "        print(\"Exiting early...\")\n",
    "        break\n",
    "cap.release()\n",
    "cv2.destroyAllWindows() \n"
   ]
  },
  {
   "cell_type": "code",
   "execution_count": 1,
   "id": "38743dd5-fe94-41ba-9947-805914afe8d8",
   "metadata": {},
   "outputs": [
    {
     "name": "stdin",
     "output_type": "stream",
     "text": [
      "Press Enter to start video capture. Press 'q' to stop recording. q\n"
     ]
    },
    {
     "name": "stdout",
     "output_type": "stream",
     "text": [
      "Stopping recording...\n",
      "Video saved as output.avi\n"
     ]
    }
   ],
   "source": [
    "import cv2\n",
    "\n",
    "cap = cv2.VideoCapture(0)\n",
    "\n",
    "frame_width = int(cap.get(3))  # Frame width\n",
    "frame_height = int(cap.get(4))  # Frame height\n",
    "fps = 20  # Frames per second\n",
    "\n",
    "fourcc = cv2.VideoWriter_fourcc(*'XVID')  # Codec for AVI format\n",
    "out = cv2.VideoWriter('output.avi', fourcc, fps, (frame_width, frame_height))\n",
    "\n",
    "input(\"Press Enter to start video capture. Press 'q' to stop recording.\")\n",
    "\n",
    "while True:\n",
    "    ret, frame = cap.read()\n",
    "    if not ret:\n",
    "        break\n",
    "\n",
    "    cv2.imshow('Video', frame)\n",
    "    out.write(frame)  # Save frame to video\n",
    "\n",
    "    # Press 'q' to stop recording\n",
    "    if cv2.waitKey(1) & 0xFF == ord('q'):\n",
    "        print(\"Stopping recording...\")\n",
    "        break\n",
    "\n",
    "cap.release()\n",
    "out.release()\n",
    "cv2.destroyAllWindows()\n",
    "print(\"Video saved as output.avi\")\n"
   ]
  },
  {
   "cell_type": "code",
   "execution_count": null,
   "id": "a8a2daaf-6bf0-4882-8c6f-17de6ffdfbd1",
   "metadata": {},
   "outputs": [],
   "source": [
    "import cv2 \n",
    "cap = cv2.VideoCapture(0) \n",
    "# Create a resizable window \n",
    "cv2.namedWindow('Video', cv2.WINDOW_NORMAL) \n",
    "while True: \n",
    "    ret, frame = cap.read() \n",
    "    cv2.imshow('Video', frame) \n",
    "    # Resize the window \n",
    "    cv2.resizeWindow('Video', 100, 200) \n",
    "    if cv2.waitKey(1) & 0xFF == ord('q'): \n",
    "        break \n",
    "cap.release() \n",
    "cv2.destroyAllWindows()\n",
    "\n"
   ]
  },
  {
   "cell_type": "code",
   "execution_count": null,
   "id": "3e1b1636-f454-4254-b1c8-b4d1d15910da",
   "metadata": {},
   "outputs": [],
   "source": [
    "import cv2 \n",
    "cap = cv2.VideoCapture (0) \n",
    "\n",
    "rotation_angle = 90 \n",
    "while True: \n",
    "    ret, frame = cap.read() \n",
    "    # Rotate the frame \n",
    "    rotated_frame = cv2.rotate(frame, cv2.ROTATE_90_CLOCKWISE) \n",
    "    cv2.imshow('Rotated Video', rotated_frame) \n",
    "    if cv2.waitKey(1) & 0xFF == ord('q'): \n",
    "        break \n",
    "cap.release() \n",
    "cv2.destroyAllWindows()"
   ]
  },
  {
   "cell_type": "code",
   "execution_count": null,
   "id": "3f93e1f3-e42a-4cba-9c4f-817f8200a695",
   "metadata": {},
   "outputs": [],
   "source": []
  }
 ],
 "metadata": {
  "kernelspec": {
   "display_name": "Python 3 (ipykernel)",
   "language": "python",
   "name": "python3"
  },
  "language_info": {
   "codemirror_mode": {
    "name": "ipython",
    "version": 3
   },
   "file_extension": ".py",
   "mimetype": "text/x-python",
   "name": "python",
   "nbconvert_exporter": "python",
   "pygments_lexer": "ipython3",
   "version": "3.12.9"
  }
 },
 "nbformat": 4,
 "nbformat_minor": 5
}
